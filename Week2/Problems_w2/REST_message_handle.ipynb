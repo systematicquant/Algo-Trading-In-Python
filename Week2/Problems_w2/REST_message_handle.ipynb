{
 "cells": [
  {
   "cell_type": "code",
   "execution_count": null,
   "metadata": {},
   "outputs": [],
   "source": [
    "import numpy as np\n",
    "import pandas as pd\n",
    "from binancepy import MarketData, Client\n",
    "\n",
    "###TRADING RULES\n",
    "QUANTPRE = {  'BTCUSDT': 3, 'ETHUSDT': 3, 'BCHUSDT': 2, 'XRPUSDT': 1, 'EOSUSDT': 1, 'LTCUSDT': 3, \\\n",
    "                'TRXUSDT': 0, 'ETCUSDT': 2, 'LINKUSDT': 2, 'XLMUSDT': 0, 'ADAUSDT': 0, 'XMRUSDT': 3, \\\n",
    "                'DASHUSDT': 3, 'ZECUSDT': 3, 'XTZUSDT': 1, 'BNBUSDT': 2, 'ATOMUSDT': 2, 'ONTUSDT': 1, \\\n",
    "                'IOTAUSDT': 1, 'BATUSDT': 1, 'VETUSDT': 0, 'NEOUSDT': 2, 'QTUMUSDT': 1, 'IOSTUSDT': 0 }\n",
    "PRICEPRE = {  'BTCUSDT': 2, 'ETHUSDT': 2, 'BCHUSDT': 2, 'XRPUSDT': 4, 'EOSUSDT': 3, 'LTCUSDT': 2, \\\n",
    "              'TRXUSDT': 5, 'ETCUSDT':3, 'LINKUSDT': 3  , 'XLMUSDT': 5, 'ADAUSDT': 5, 'XMRUSDT': 2, \\\n",
    "              'DASHUSDT': 2, 'ZECUSDT': 2, 'XTZUSDT': 3, 'BNBUSDT': 3, 'ATOMUSDT': 3, 'ONTUSDT': 4, \\\n",
    "              'IOTAUSDT': 4, 'BATUSDT': 4, 'VETUSDT': 6, 'NEOUSDT': 3, 'QTUMUSDT': 3, 'IOSTUSDT': 6 }\n",
    "\n",
    "SIDE = {'BUY': 1.0, 'SELL': -1.0}\n",
    "\n",
    "testnet = True\n",
    "if testnet:\n",
    "    # Testnet\n",
    "    apikey = '' ### INSERT your api key ###\n",
    "    scrkey = '' ### INSERT your api secret ###\n",
    "else:\n",
    "    # Binance\n",
    "    apikey = ''\n",
    "    scrkey = ''"
   ]
  },
  {
   "cell_type": "markdown",
   "metadata": {},
   "source": [
    "# Problem 1 : Safe Limit Price"
   ]
  },
  {
   "cell_type": "code",
   "execution_count": null,
   "metadata": {},
   "outputs": [],
   "source": [
    "def get_possible_price(mk_data, side):\n",
    "    '''\n",
    "    Return a safe limit price available on the market\n",
    "    '''   \n",
    "    \n",
    "    \n",
    "    ### PROBLEM 1 : INSERT  your code here###\n",
    "    \n",
    "    \n",
    "    return bids, asks, lim"
   ]
  },
  {
   "cell_type": "code",
   "execution_count": null,
   "metadata": {},
   "outputs": [],
   "source": [
    "### TEST get_possible_price() function\n",
    "symbol = 'BTCUSDT'\n",
    "data = MarketData(testnet=testnet, symbol=symbol, interval='1m')\n",
    "side = 'SELL'\n",
    "bids, asks, price = get_possible_price(data, side)\n",
    "print('side = ', side)\n",
    "if side=='BUY':\n",
    "    print('best bid = {} \\n2nd best bid = {} \\nlimit price = {}'.format(bids[0], bids[1], price))\n",
    "elif side=='SELL':\n",
    "    print('best ask = {} \\n2nd best ask = {} \\nlimit price = {}'.format(asks[0], asks[1], price))"
   ]
  },
  {
   "cell_type": "markdown",
   "metadata": {},
   "source": [
    "# Problem 2 : Portfolio Class"
   ]
  },
  {
   "cell_type": "code",
   "execution_count": null,
   "metadata": {},
   "outputs": [],
   "source": [
    "### Portfolio Class:\n",
    "class Portfolio:\n",
    "    def __init__( self,\n",
    "                  client,\n",
    "                  tradeIns = []):\n",
    "        '''\n",
    "        Portfolio class\n",
    "        '''\n",
    "        self.client = client\n",
    "        self.tradeIns = tradeIns.copy()\n",
    "        self.orderSize = 0\n",
    "        self.equityDist = {'BUY': 0, 'SELL': 0}\n",
    "        self.locks = { 'BUY': [], 'SELL': []}\n",
    "        \n",
    "    def equity_distribution(self, longPct=0.5, shortPct=0.5, currency='USDT', orderPct=0.1):\n",
    "        '''\n",
    "        Retrun number of buy/sell orders with currenty equity\n",
    "        \n",
    "            longPct : percentage of equity assigned for buying\n",
    "        \n",
    "            shortPct : percentage of equity assigned for selling\n",
    "        \n",
    "            orderPct : percentage of equity for a single order\n",
    "        '''\n",
    "        \n",
    "        \n",
    "        ### PROBLEM 2 : INSERT  your code here###\n",
    "        \n",
    "        \n",
    "        return self.orderSize, long_order, short_order\n",
    "        \n",
    "    def position_locks(self, prelocks={ 'BUY': [], 'SELL': []}):\n",
    "        '''\n",
    "        Check for open positions and return a tradable instruments\n",
    "        '''        \n",
    "        \n",
    "        \n",
    "        ### PROBLEM 2 : INSERT  your code here ###\n",
    "        \n",
    "        \n",
    "        return self.tradeIns"
   ]
  },
  {
   "cell_type": "code",
   "execution_count": null,
   "metadata": {},
   "outputs": [],
   "source": [
    "### TEST Portfolio class\n",
    "insIds = [ 'BTCUSDT', 'ETHUSDT', 'BCHUSDT', 'LINKUSDT', 'XTZUSDT', 'LTCUSDT','DASHUSDT', 'EOSUSDT', 'ETCUSDT', 'ONTUSDT' ]\n",
    "client = Client(apikey, scrkey, testnet=testnet)\n",
    "portfolio = Portfolio(client, tradeIns=insIds)\n",
    "order_size, long, short = portfolio.equity_distribution(longPct=0.5, shortPct=0.5, currency='USDT', orderPct=0.1)\n",
    "tradeIns = portfolio.position_locks()\n",
    "\n",
    "print('\\nInstruments list : \\n', tradeIns, '\\n')\n",
    "print('Order Size : {} '.format(order_size))\n",
    "print('\\nNumber of order : \\t#long : {} \\t#short : {}  '.format(long, short))"
   ]
  },
  {
   "cell_type": "markdown",
   "metadata": {},
   "source": [
    "# Problem 3: Request Limit"
   ]
  },
  {
   "cell_type": "code",
   "execution_count": null,
   "metadata": {},
   "outputs": [],
   "source": [
    "from datetime import datetime\n",
    "\n",
    "def klns_to_df(market_data, feats):\n",
    "    '''\n",
    "    Add columns' name to dataFrame received from market and select the columns in feats\n",
    "    \n",
    "    feats -> ['_o', '_h', '_l', '_c', '_v']\n",
    "    '''\n",
    "    fts = list(str(f) for f in feats)\n",
    "    _df = pd.DataFrame(market_data, columns = ['_t', '_o', '_h', '_l', '_c', '_v', 'close_time', 'quote_av', 'trades', 'tb_base_av', 'tb_quote_av', 'ignore'])\n",
    "    _df[['_o', '_h', '_l', '_c', '_v']] = _df[['_o', '_h', '_l', '_c', '_v']].astype(float)\n",
    "    return _df[fts]\n",
    "\n",
    "def candle_no_limit(mkData, interval, startTime, endTime):\n",
    "    '''\n",
    "    Return dataFrame of mkData from startTime to endTime\n",
    "    '''\n",
    "    min_in_candle ={'1m':1, '3m':3, '5m':5, '10m':10, '15m':15, '30m': 30, \\\n",
    "                    '1h':60, '4h':240, '6h':360, '12h':720, '1d':1440}\n",
    "    \n",
    "    if not isinstance(startTime, int): \n",
    "        startTime = int(pd.Timestamp(datetime.strptime(startTime, '%d %b %Y %H:%M:%S')).value/10**6)\n",
    "    if not isinstance(endTime, int): \n",
    "        endTime = int(pd.Timestamp(datetime.strptime(endTime, '%d %b %Y %H:%M:%S')).value/10**6)    \n",
    "    kln_df = None\n",
    "\n",
    "\n",
    "    ### PROBLEM 3 : INSERT  your code here ###\n",
    "\n",
    "\n",
    "    return kln_df"
   ]
  },
  {
   "cell_type": "code",
   "execution_count": null,
   "metadata": {},
   "outputs": [],
   "source": [
    "### Test candle_no_limit() function\n",
    "symbol = 'BTCUSDT'\n",
    "data = MarketData(testnet=testnet, symbol=symbol)\n",
    "t_start = '01 Jun 2020 00:00:00' \n",
    "t_end = '03 Jun 2020 00:00:00'\n",
    "klns = candle_no_limit(data, interval='3m', startTime=t_start, endTime=t_end)\n",
    "klns.head()"
   ]
  }
 ],
 "metadata": {
  "kernelspec": {
   "display_name": "Python 3",
   "language": "python",
   "name": "python3"
  },
  "language_info": {
   "codemirror_mode": {
    "name": "ipython",
    "version": 3
   },
   "file_extension": ".py",
   "mimetype": "text/x-python",
   "name": "python",
   "nbconvert_exporter": "python",
   "pygments_lexer": "ipython3",
   "version": "3.7.5"
  }
 },
 "nbformat": 4,
 "nbformat_minor": 4
}
